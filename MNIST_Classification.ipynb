{
 "cells": [
  {
   "cell_type": "code",
   "id": "initial_id",
   "metadata": {
    "collapsed": true,
    "ExecuteTime": {
     "end_time": "2024-08-31T18:23:54.002893Z",
     "start_time": "2024-08-31T18:23:53.247377Z"
    }
   },
   "source": [
    "import numpy as np\n",
    "import tensorflow as tf\n",
    "import tensorflow_datasets as tfds"
   ],
   "outputs": [],
   "execution_count": 2
  },
  {
   "metadata": {
    "ExecuteTime": {
     "end_time": "2024-08-31T19:14:23.365337Z",
     "start_time": "2024-08-31T19:14:01.162627Z"
    }
   },
   "cell_type": "code",
   "source": [
    "# Load the dataset\n",
    "mnist_dataset, mnist_info = tfds.load(name=\"mnist\", with_info=True, as_supervised=True)\n",
    "\n",
    "mnist_train, mnist_test = mnist_dataset[\"train\"], mnist_dataset[\"test\"]\n",
    "\n",
    "# Calculate the number of validation samples\n",
    "num_validation_samples = 0.1 * mnist_info.splits[\"train\"].num_examples\n",
    "num_validation_samples = tf.cast(num_validation_samples, tf.int64)\n",
    "\n",
    "num_test_samples = mnist_info.splits[\"test\"].num_examples\n",
    "num_test_samples = tf.cast(num_test_samples, tf.int64)\n",
    "\n",
    "# Define the scaling function\n",
    "def scale(image, label):\n",
    "    image = tf.cast(image, tf.float32)\n",
    "    image /= 255\n",
    "    return image, label\n",
    "\n",
    "# Apply the scaling function\n",
    "scaled_train_and_validation_data = mnist_train.map(scale)\n",
    "test_data = mnist_test.map(scale)\n",
    "\n",
    "# Shuffle the training and validation data\n",
    "BUFFER_SIZE = 10000\n",
    "shuffled_train_and_validation = scaled_train_and_validation_data.shuffle(BUFFER_SIZE)\n",
    "\n",
    "# Split the data into training and validation sets\n",
    "validation_data = shuffled_train_and_validation.take(num_validation_samples)\n",
    "train_data = shuffled_train_and_validation.skip(num_validation_samples)\n",
    "\n",
    "# Batch the data\n",
    "BATCH_SIZE = 100\n",
    "train_data = train_data.batch(BATCH_SIZE)\n",
    "validation_data = validation_data.batch(BATCH_SIZE)\n",
    "test_data = test_data.batch(BATCH_SIZE)\n",
    "\n",
    "# Define the model\n",
    "input_size = 784\n",
    "output_size = 10\n",
    "hidden_layer_size = 50\n",
    "\n",
    "model = tf.keras.Sequential([\n",
    "    tf.keras.Input(shape=(28, 28, 1)),\n",
    "    tf.keras.layers.Flatten(),\n",
    "    tf.keras.layers.Dense(hidden_layer_size, activation=\"relu\"),\n",
    "    tf.keras.layers.Dense(hidden_layer_size, activation=\"relu\"),\n",
    "    tf.keras.layers.Dense(output_size, activation=\"softmax\")\n",
    "])\n",
    "\n",
    "# Compile the model\n",
    "model.compile(optimizer='adam', loss='sparse_categorical_crossentropy', metrics=['accuracy'])\n",
    "\n",
    "# Train the model\n",
    "NUM_EPOCHS = 5\n",
    "model.fit(train_data, epochs=NUM_EPOCHS, validation_data=validation_data, verbose=2)"
   ],
   "id": "7ed0a66dc3882062",
   "outputs": [
    {
     "name": "stdout",
     "output_type": "stream",
     "text": [
      "Epoch 1/5\n",
      "540/540 - 11s - 21ms/step - accuracy: 0.8838 - loss: 0.4097 - val_accuracy: 0.9420 - val_loss: 0.2105\n",
      "Epoch 2/5\n",
      "540/540 - 3s - 5ms/step - accuracy: 0.9461 - loss: 0.1835 - val_accuracy: 0.9538 - val_loss: 0.1602\n",
      "Epoch 3/5\n",
      "540/540 - 3s - 5ms/step - accuracy: 0.9579 - loss: 0.1415 - val_accuracy: 0.9650 - val_loss: 0.1204\n",
      "Epoch 4/5\n",
      "540/540 - 3s - 5ms/step - accuracy: 0.9648 - loss: 0.1156 - val_accuracy: 0.9685 - val_loss: 0.1134\n",
      "Epoch 5/5\n",
      "540/540 - 3s - 5ms/step - accuracy: 0.9704 - loss: 0.0983 - val_accuracy: 0.9723 - val_loss: 0.0933\n"
     ]
    },
    {
     "data": {
      "text/plain": [
       "<keras.src.callbacks.history.History at 0x24455a0b2b0>"
      ]
     },
     "execution_count": 10,
     "metadata": {},
     "output_type": "execute_result"
    }
   ],
   "execution_count": 10
  },
  {
   "metadata": {},
   "cell_type": "markdown",
   "source": "Testing:",
   "id": "4bdfbb38e17982c5"
  },
  {
   "metadata": {
    "ExecuteTime": {
     "end_time": "2024-08-31T19:16:15.893905Z",
     "start_time": "2024-08-31T19:16:14.142381Z"
    }
   },
   "cell_type": "code",
   "source": "test_loss, test_accuracy = model.evaluate(test_data)",
   "id": "a6915f33606957b0",
   "outputs": [
    {
     "name": "stdout",
     "output_type": "stream",
     "text": [
      "\u001B[1m100/100\u001B[0m \u001B[32m━━━━━━━━━━━━━━━━━━━━\u001B[0m\u001B[37m\u001B[0m \u001B[1m2s\u001B[0m 16ms/step - accuracy: 0.9677 - loss: 0.1076\n"
     ]
    }
   ],
   "execution_count": 11
  },
  {
   "metadata": {
    "ExecuteTime": {
     "end_time": "2024-08-31T19:17:36.698840Z",
     "start_time": "2024-08-31T19:17:36.685700Z"
    }
   },
   "cell_type": "code",
   "source": "print(\"Test loss: {0: .2f}. Test accuracy: {1: .2f}%\".format(test_loss, test_accuracy * 100.))",
   "id": "4a82be63acc2b872",
   "outputs": [
    {
     "name": "stdout",
     "output_type": "stream",
     "text": [
      "Test loss:  0.11. Test accuracy:  96.65%\n"
     ]
    }
   ],
   "execution_count": 12
  }
 ],
 "metadata": {
  "kernelspec": {
   "display_name": "Python 3",
   "language": "python",
   "name": "python3"
  },
  "language_info": {
   "codemirror_mode": {
    "name": "ipython",
    "version": 2
   },
   "file_extension": ".py",
   "mimetype": "text/x-python",
   "name": "python",
   "nbconvert_exporter": "python",
   "pygments_lexer": "ipython2",
   "version": "2.7.6"
  }
 },
 "nbformat": 4,
 "nbformat_minor": 5
}
